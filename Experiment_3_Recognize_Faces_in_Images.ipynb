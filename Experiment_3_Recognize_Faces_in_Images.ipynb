{
 "cells": [
  {
   "cell_type": "code",
   "execution_count": null,
   "metadata": {
    "collapsed": true
   },
   "outputs": [],
   "source": [
    "import cv2,os\n",
    "import numpy as np\n",
    "from PIL import Image \n",
    "from cv2 import face\n",
    "import pickle\n",
    "\n",
    "cam = cv2.VideoCapture(0)\n",
    "detector=cv2.CascadeClassifier('Classifiers/face.xml')\n",
    "i=0\n",
    "offset=50\n",
    "name=raw_input('enter your id')\n",
    "while True:\n",
    "    ret, im =cam.read()\n",
    "    gray=cv2.cvtColor(im,cv2.COLOR_BGR2GRAY)\n",
    "    faces=detector.detectMultiScale(gray, scaleFactor=1.2, minNeighbors=5, minSize=(100, 100), flags=cv2.CASCADE_SCALE_IMAGE)\n",
    "    for(x,y,w,h) in faces:\n",
    "        i=i+1\n",
    "        cv2.imwrite(\"dataSet/face-\"+name +'.'+ str(i) + \".jpg\", gray[y-offset:y+h+offset,x-offset:x+w+offset])\n",
    "        cv2.rectangle(im,(x-50,y-50),(x+w+50,y+h+50),(225,0,0),2)\n",
    "        cv2.imshow('im',im[y-offset:y+h+offset,x-offset:x+w+offset])\n",
    "        cv2.waitKey(100)\n",
    "    if i>20:\n",
    "        cam.release()\n",
    "        cv2.destroyAllWindows()\n",
    "        break\n",
    "\n",
    " "
   ]
  },
  {
   "cell_type": "code",
   "execution_count": null,
   "metadata": {
    "collapsed": true
   },
   "outputs": [],
   "source": [
    "recognizer = cv2.face.createLBPHFaceRecognizer()\n",
    "cascadePath = \"Classifiers/face.xml\"\n",
    "faceCascade = cv2.CascadeClassifier(cascadePath);\n",
    "path = 'dataSet'\n",
    "\n",
    "def get_images_and_labels(path):\n",
    "     image_paths = [os.path.join(path, f) for f in os.listdir(path)]\n",
    "     # images will contains face images\n",
    "     images = []\n",
    "     # labels will contains the label that is assigned to the image\n",
    "     labels = []\n",
    "     for image_path in image_paths:\n",
    "         # Read the image and convert to grayscale\n",
    "         image_pil = Image.open(image_path).convert('L')\n",
    "         # Convert the image format into numpy array\n",
    "         image = np.array(image_pil, 'uint8')\n",
    "         # Get the label of the image\n",
    "         nbr = int(os.path.split(image_path)[1].split(\".\")[0].replace(\"face-\", \"\"))\n",
    "         #nbr=int(''.join(str(ord(c)) for c in nbr))\n",
    "         print nbr\n",
    "         # Detect the face in the image\n",
    "         faces = faceCascade.detectMultiScale(image)\n",
    "         # If face is detected, append the face to images and the label to labels\n",
    "         for (x, y, w, h) in faces:\n",
    "             images.append(image[y: y + h, x: x + w])\n",
    "             labels.append(nbr)\n",
    "             cv2.imshow(\"Adding faces to traning set...\", image[y: y + h, x: x + w])\n",
    "             cv2.waitKey(10)\n",
    "     # return the images list and labels list\n",
    "     return images, labels"
   ]
  },
  {
   "cell_type": "code",
   "execution_count": null,
   "metadata": {
    "collapsed": true
   },
   "outputs": [],
   "source": [
    "\n",
    "\n",
    "recognizer = cv2.createLBPHFaceRecognizer()\n",
    "recognizer.load('trainer/trainer.yml')\n",
    "cascadePath = \"Classifiers/face.xml\"\n",
    "faceCascade = cv2.CascadeClassifier(cascadePath);\n",
    "path = 'dataSet'\n",
    "\n",
    "cam = cv2.VideoCapture(0)\n",
    "font = cv2.cv.InitFont(cv2.cv.CV_FONT_HERSHEY_SIMPLEX, 1, 1, 0, 1, 1) #Creates a font\n",
    "while True:\n",
    "    ret, im =cam.read()\n",
    "    gray=cv2.cvtColor(im,cv2.COLOR_BGR2GRAY)\n",
    "    faces=faceCascade.detectMultiScale(gray, scaleFactor=1.2, minNeighbors=5, minSize=(100, 100), flags=cv2.CASCADE_SCALE_IMAGE)\n",
    "    for(x,y,w,h) in faces:\n",
    "        nbr_predicted, conf = recognizer.predict(gray[y:y+h,x:x+w])\n",
    "        cv2.rectangle(im,(x-50,y-50),(x+w+50,y+h+50),(225,0,0),2)\n",
    "        if(nbr_predicted==7):\n",
    "             nbr_predicted='Obama'\n",
    "        elif(nbr_predicted==2):\n",
    "             nbr_predicted='Anirban'\n",
    "        cv2.cv.PutText(cv2.cv.fromarray(im),str(nbr_predicted)+\"--\"+str(conf), (x,y+h),font, 255) #Draw the text\n",
    "        cv2.imshow('im',im)\n",
    "        cv2.waitKey(10)\n"
   ]
  }
 ],
 "metadata": {
  "kernelspec": {
   "display_name": "Python 3",
   "language": "python",
   "name": "python3"
  }
 },
 "nbformat": 4,
 "nbformat_minor": 2
}
