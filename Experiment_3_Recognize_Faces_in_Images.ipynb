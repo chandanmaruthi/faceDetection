{
 "cells": [
  {
   "cell_type": "code",
   "execution_count": 5,
   "metadata": {},
   "outputs": [
    {
     "ename": "OSError",
     "evalue": "[Errno 20] Not a directory: 'labledImages/.DS_Store'",
     "output_type": "error",
     "traceback": [
      "\u001b[0;31m\u001b[0m",
      "\u001b[0;31mOSError\u001b[0mTraceback (most recent call last)",
      "\u001b[0;32m<ipython-input-5-7dcaf46fdfd9>\u001b[0m in \u001b[0;36m<module>\u001b[0;34m()\u001b[0m\n\u001b[1;32m     44\u001b[0m \u001b[0;34m\u001b[0m\u001b[0m\n\u001b[1;32m     45\u001b[0m \u001b[0;34m\u001b[0m\u001b[0m\n\u001b[0;32m---> 46\u001b[0;31m \u001b[0mimages\u001b[0m\u001b[0;34m,\u001b[0m \u001b[0mlabels\u001b[0m \u001b[0;34m=\u001b[0m \u001b[0mget_images_and_labels\u001b[0m\u001b[0;34m(\u001b[0m\u001b[0mpath\u001b[0m\u001b[0;34m)\u001b[0m\u001b[0;34m\u001b[0m\u001b[0m\n\u001b[0m\u001b[1;32m     47\u001b[0m \u001b[0mcv2\u001b[0m\u001b[0;34m.\u001b[0m\u001b[0mimshow\u001b[0m\u001b[0;34m(\u001b[0m\u001b[0;34m'test'\u001b[0m\u001b[0;34m,\u001b[0m\u001b[0mimages\u001b[0m\u001b[0;34m[\u001b[0m\u001b[0;36m0\u001b[0m\u001b[0;34m]\u001b[0m\u001b[0;34m)\u001b[0m\u001b[0;34m\u001b[0m\u001b[0m\n\u001b[1;32m     48\u001b[0m \u001b[0mcv2\u001b[0m\u001b[0;34m.\u001b[0m\u001b[0mwaitKey\u001b[0m\u001b[0;34m(\u001b[0m\u001b[0;36m1\u001b[0m\u001b[0;34m)\u001b[0m\u001b[0;34m\u001b[0m\u001b[0m\n",
      "\u001b[0;32m<ipython-input-5-7dcaf46fdfd9>\u001b[0m in \u001b[0;36mget_images_and_labels\u001b[0;34m(path)\u001b[0m\n\u001b[1;32m     17\u001b[0m      \u001b[0mlabels\u001b[0m \u001b[0;34m=\u001b[0m \u001b[0;34m[\u001b[0m\u001b[0;34m]\u001b[0m\u001b[0;34m\u001b[0m\u001b[0m\n\u001b[1;32m     18\u001b[0m      \u001b[0;32mfor\u001b[0m \u001b[0mimage_folder_path\u001b[0m \u001b[0;32min\u001b[0m \u001b[0mimage_folder_paths\u001b[0m\u001b[0;34m:\u001b[0m\u001b[0;34m\u001b[0m\u001b[0m\n\u001b[0;32m---> 19\u001b[0;31m          \u001b[0mimage_paths\u001b[0m \u001b[0;34m=\u001b[0m \u001b[0mos\u001b[0m\u001b[0;34m.\u001b[0m\u001b[0mlistdir\u001b[0m\u001b[0;34m(\u001b[0m\u001b[0mos\u001b[0m\u001b[0;34m.\u001b[0m\u001b[0mpath\u001b[0m\u001b[0;34m.\u001b[0m\u001b[0mjoin\u001b[0m\u001b[0;34m(\u001b[0m\u001b[0mpath\u001b[0m\u001b[0;34m,\u001b[0m \u001b[0mimage_folder_path\u001b[0m\u001b[0;34m)\u001b[0m\u001b[0;34m)\u001b[0m\u001b[0;34m\u001b[0m\u001b[0m\n\u001b[0m\u001b[1;32m     20\u001b[0m          \u001b[0;32mfor\u001b[0m \u001b[0mimage_path\u001b[0m \u001b[0;32min\u001b[0m \u001b[0mimage_paths\u001b[0m\u001b[0;34m:\u001b[0m\u001b[0;34m\u001b[0m\u001b[0m\n\u001b[1;32m     21\u001b[0m \u001b[0;34m\u001b[0m\u001b[0m\n",
      "\u001b[0;31mOSError\u001b[0m: [Errno 20] Not a directory: 'labledImages/.DS_Store'"
     ]
    }
   ],
   "source": [
    "import cv2,os\n",
    "import numpy as np\n",
    "from PIL import Image\n",
    "import pickle\n",
    "import matplotlib.pyplot as plt\n",
    "from cv2.face import *\n",
    "recognizer = cv2.face.LBPHFaceRecognizer_create()\n",
    "cascadePath = \"Classifiers/face.xml\"\n",
    "faceCascade = cv2.CascadeClassifier(cascadePath);\n",
    "path = 'labledImages'\n",
    "\n",
    "def get_images_and_labels(path):\n",
    "     image_folder_paths = os.listdir(path)\n",
    "     # images will contains face images\n",
    "     images = []\n",
    "     # labels will contains the label that is assigned to the image\n",
    "     labels = []\n",
    "     for image_folder_path in image_folder_paths:        \n",
    "         image_paths = os.listdir(os.path.join(path, image_folder_path))\n",
    "         for image_path in image_paths:\n",
    "\n",
    "             selected_image_path = path+\"/\"+image_folder_path+\"/\"+image_path\n",
    "             #print(selected_image_path)\n",
    "             if(image_path[len(image_path)-5:len(image_path)] == \".jpeg\"):\n",
    "                 # Read the image and convert to grayscale\n",
    "                 image_pil = Image.open(selected_image_path).convert('L')\n",
    "                 # Convert the image format into numpy array\n",
    "                 image = np.array(image_pil, 'uint8')\n",
    "                 # Get the label of the image\n",
    "                 #nbr = int(os.path.split(image_path)[1].split(\".\")[0].replace(\"face-\", \"\"))\n",
    "                 #nbr=int(''.join(str(ord(c)) for c in nbr))\n",
    "                 nbr = int(image_folder_path)\n",
    "                 #print nbr\n",
    "                 # Detect the face in the image\n",
    "                 faces = faceCascade.detectMultiScale(image)\n",
    "                 # If face is detected, append the face to images and the label to labels\n",
    "                 for (x, y, w, h) in faces:\n",
    "                     images.append(image[y: y + h, x: x + w])\n",
    "                     labels.append(nbr)\n",
    "                     cv2.imshow(\"Adding faces to traning set...\", image[y: y + h, x: x + w])\n",
    "                     cv2.waitKey(10)\n",
    "     # return the images list and labels list\n",
    "     return images, labels\n",
    "\n",
    "\n",
    "images, labels = get_images_and_labels(path)\n",
    "cv2.imshow('test',images[0])\n",
    "cv2.waitKey(1)\n",
    "\n",
    "recognizer.train(images, np.array(labels))\n",
    "recognizer.write('trainer/trainer.yml')\n",
    "cv2.destroyAllWindows()\n",
    "\n"
   ]
  },
  {
   "cell_type": "code",
   "execution_count": 8,
   "metadata": {},
   "outputs": [
    {
     "name": "stdout",
     "output_type": "stream",
     "text": [
      "hughGrant1.jpeg--3\n",
      "hughGrant5.jpeg--3\n",
      "jimCarrey2.jpeg--1\n",
      "jimCarrey3.jpeg--1\n",
      "jimCarrey4.jpeg--1\n",
      "jimCarrey7.jpeg--1\n",
      "juliaRoberts1.jpeg--2\n",
      "quentinTarantino1.jpeg--4\n",
      "quentinTarantino2.jpeg--4\n",
      "quentinTarantino4.jpeg--4\n"
     ]
    }
   ],
   "source": [
    "recognizer = cv2.face.LBPHFaceRecognizer_create()\n",
    "recognizer.read('trainer/trainer.yml')\n",
    "cascadePath = \"Classifiers/face.xml\"\n",
    "faceCascade = cv2.CascadeClassifier(cascadePath);\n",
    "path = 'testDataSetUnlabeledImages'\n",
    "\n",
    "font = cv2.FONT_HERSHEY_SIMPLEX\n",
    "image_paths = os.listdir(path)\n",
    "for image_path in image_paths:\n",
    "    #print(image_path)\n",
    "    image_full_path = os.path.join(path,image_path)\n",
    "    image_pil = Image.open(image_full_path).convert('L')\n",
    "    im = np.array(image_pil, 'uint8')\n",
    "    #gray=cv2.cvtColor(im,cv2.COLOR_BGR2GRAY)\n",
    "    faces=faceCascade.detectMultiScale(im, scaleFactor=1.2, minNeighbors=5, minSize=(100, 100), flags=cv2.CASCADE_SCALE_IMAGE)\n",
    "    for(x,y,w,h) in faces:\n",
    "        nbr_predicted, conf = recognizer.predict(im[y:y+h,x:x+w])\n",
    "        cv2.rectangle(im,(x-50,y-50),(x+w+50,y+h+50),(225,0,0),2)\n",
    "\n",
    "        #cv2.cv.PutText(cv2.cv.fromarray(im),str(nbr_predicted)+\"--\"+str(conf), (x,y+h),font, 255) #Draw the text\n",
    "        print(image_path + \"--\" + str(nbr_predicted))\n",
    "        fig = plt.figure(figsize=(10, 30))\n",
    "        plt.subplot(1, 5, 1)\n",
    "        plt.imshow(im)\n",
    "        #cv2.waitKey(10)\n"
   ]
  }
 ],
 "metadata": {
  "kernelspec": {
   "display_name": "Python 3",
   "language": "python",
   "name": "python3"
  },
  "language_info": {
   "codemirror_mode": {
    "name": "ipython",
    "version": 2
   },
   "file_extension": ".py",
   "mimetype": "text/x-python",
   "name": "python",
   "nbconvert_exporter": "python",
   "pygments_lexer": "ipython2",
   "version": "2.7.13"
  }
 },
 "nbformat": 4,
 "nbformat_minor": 2
}
