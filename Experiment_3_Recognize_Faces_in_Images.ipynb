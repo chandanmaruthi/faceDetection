{
 "cells": [
  {
   "cell_type": "code",
   "execution_count": 39,
   "metadata": {},
   "outputs": [],
   "source": [
    "import cv2,os\n",
    "import numpy as np\n",
    "from PIL import Image\n",
    "import pickle\n",
    "from cv2.face import *\n",
    "recognizer = cv2.face.LBPHFaceRecognizer_create()\n",
    "cascadePath = \"Classifiers/face.xml\"\n",
    "faceCascade = cv2.CascadeClassifier(cascadePath);\n",
    "path = 'labledImages'\n",
    "\n",
    "def get_images_and_labels(path):\n",
    "     image_folder_paths = os.listdir(path)\n",
    "     # images will contains face images\n",
    "     images = []\n",
    "     # labels will contains the label that is assigned to the image\n",
    "     labels = []\n",
    "     for image_folder_path in image_folder_paths:        \n",
    "         image_paths = os.listdir(os.path.join(path, image_folder_path))\n",
    "         for image_path in image_paths:\n",
    "\n",
    "             selected_image_path = path+\"/\"+image_folder_path+\"/\"+image_path\n",
    "             #print(selected_image_path)\n",
    "             if(image_path[len(image_path)-5:len(image_path)] == \".jpeg\"):\n",
    "                 # Read the image and convert to grayscale\n",
    "                 image_pil = Image.open(selected_image_path).convert('L')\n",
    "                 # Convert the image format into numpy array\n",
    "                 image = np.array(image_pil, 'uint8')\n",
    "                 # Get the label of the image\n",
    "                 #nbr = int(os.path.split(image_path)[1].split(\".\")[0].replace(\"face-\", \"\"))\n",
    "                 #nbr=int(''.join(str(ord(c)) for c in nbr))\n",
    "                 nbr = int(image_folder_path)\n",
    "                 #print nbr\n",
    "                 # Detect the face in the image\n",
    "                 faces = faceCascade.detectMultiScale(image)\n",
    "                 # If face is detected, append the face to images and the label to labels\n",
    "                 for (x, y, w, h) in faces:\n",
    "                     images.append(image[y: y + h, x: x + w])\n",
    "                     labels.append(nbr)\n",
    "                     cv2.imshow(\"Adding faces to traning set...\", image[y: y + h, x: x + w])\n",
    "                     cv2.waitKey(10)\n",
    "     # return the images list and labels list\n",
    "     return images, labels\n",
    "\n",
    "\n",
    "images, labels = get_images_and_labels(path)\n",
    "cv2.imshow('test',images[0])\n",
    "cv2.waitKey(1)\n",
    "\n",
    "recognizer.train(images, np.array(labels))\n",
    "recognizer.write('trainer/trainer.yml')\n",
    "cv2.destroyAllWindows()\n",
    "\n"
   ]
  },
  {
   "cell_type": "code",
   "execution_count": 40,
   "metadata": {},
   "outputs": [
    {
     "name": "stdout",
     "output_type": "stream",
     "text": [
      "hughGrant1.jpeg--3\n",
      "hughGrant5.jpeg--3\n",
      "jimCarrey2.jpeg--1\n",
      "jimCarrey3.jpeg--1\n",
      "jimCarrey4.jpeg--1\n",
      "jimCarrey7.jpeg--1\n",
      "juliaRoberts1.jpeg--2\n",
      "quentinTarantino1.jpeg--4\n",
      "quentinTarantino2.jpeg--4\n",
      "quentinTarantino4.jpeg--4\n"
     ]
    }
   ],
   "source": [
    "recognizer = cv2.face.LBPHFaceRecognizer_create()\n",
    "recognizer.read('trainer/trainer.yml')\n",
    "cascadePath = \"Classifiers/face.xml\"\n",
    "faceCascade = cv2.CascadeClassifier(cascadePath);\n",
    "path = 'testDataSetUnlabeledImages'\n",
    "\n",
    "font = cv2.FONT_HERSHEY_SIMPLEX\n",
    "image_paths = os.listdir(path)\n",
    "for image_path in image_paths:\n",
    "    #print(image_path)\n",
    "    image_full_path = os.path.join(path,image_path)\n",
    "    image_pil = Image.open(image_full_path).convert('L')\n",
    "    im = np.array(image_pil, 'uint8')\n",
    "    #gray=cv2.cvtColor(im,cv2.COLOR_BGR2GRAY)\n",
    "    faces=faceCascade.detectMultiScale(im, scaleFactor=1.2, minNeighbors=5, minSize=(100, 100), flags=cv2.CASCADE_SCALE_IMAGE)\n",
    "    for(x,y,w,h) in faces:\n",
    "        nbr_predicted, conf = recognizer.predict(im[y:y+h,x:x+w])\n",
    "        cv2.rectangle(im,(x-50,y-50),(x+w+50,y+h+50),(225,0,0),2)\n",
    "\n",
    "        #cv2.cv.PutText(cv2.cv.fromarray(im),str(nbr_predicted)+\"--\"+str(conf), (x,y+h),font, 255) #Draw the text\n",
    "        print(image_path + \"--\" + str(nbr_predicted))\n",
    "        cv2.imshow('im',im)\n",
    "        #cv2.waitKey(10)\n"
   ]
  }
 ],
 "metadata": {
  "kernelspec": {
   "display_name": "Python 3",
   "language": "python",
   "name": "python3"
  },
  "language_info": {
   "codemirror_mode": {
    "name": "ipython",
    "version": 2
   },
   "file_extension": ".py",
   "mimetype": "text/x-python",
   "name": "python",
   "nbconvert_exporter": "python",
   "pygments_lexer": "ipython2",
   "version": "2.7.13"
  }
 },
 "nbformat": 4,
 "nbformat_minor": 2
}
